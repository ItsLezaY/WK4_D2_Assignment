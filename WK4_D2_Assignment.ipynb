{
 "cells": [
  {
   "cell_type": "markdown",
   "id": "f2e3998c",
   "metadata": {},
   "source": [
    "# WK4 D2 Homework Exercises"
   ]
  },
  {
   "cell_type": "markdown",
   "id": "9338ce81",
   "metadata": {},
   "source": [
    "### Exercise #1 <br>\n",
    "<p>Reverse the list below in-place using an in-place algorithm.<br>For extra credit: Reverse the strings at the same time.</p>"
   ]
  },
  {
   "cell_type": "code",
   "execution_count": 1,
   "id": "830ce433",
   "metadata": {},
   "outputs": [
    {
     "name": "stdout",
     "output_type": "stream",
     "text": [
      "['.', 'sentence', 'a', 'is', 'this']\n",
      "['.', 'ecnetnes', 'a', 'si', 'siht']\n"
     ]
    }
   ],
   "source": [
    "words = ['this' , 'is', 'a', 'sentence', '.']\n",
    "\n",
    "def reverse_list(alist):\n",
    "    \n",
    "    left = 0 \n",
    "    right = len(alist) -1 \n",
    "    \n",
    "    while left <= right:\n",
    "        alist[left], alist[right] = alist[right], alist[left]\n",
    "        left += 1\n",
    "        right -= 1\n",
    "        \n",
    "\n",
    "reverse_list(words)\n",
    "print(words)\n",
    "\n",
    "# Reverse strings at same time:\n",
    "\n",
    "words = ['this' , 'is', 'a', 'sentence', '.']\n",
    "\n",
    "def reverse_list(alist):\n",
    "    \n",
    "\n",
    "    left = 0 \n",
    "    right = len(alist) -1\n",
    "    \n",
    "    while left <= right:\n",
    "        alist[left], alist[right] = alist[right][::-1], alist[left][::-1]\n",
    "        left += 1\n",
    "        right -= 1\n",
    "        \n",
    "\n",
    "reverse_list(words)\n",
    "print(words)"
   ]
  },
  {
   "cell_type": "markdown",
   "id": "e15faad6",
   "metadata": {},
   "source": [
    "### Exercise #2 <br>\n",
    "<p>Create a function that counts how many distinct words are in the string below, then outputs a dictionary with the words as the key and the value as the amount of times that word appears in the string.<br>Should output:<br>{'a': 5,<br>\n",
    " 'abstract': 1,<br>\n",
    " 'an': 3,<br>\n",
    " 'array': 2, ... etc...</p>"
   ]
  },
  {
   "cell_type": "code",
   "execution_count": 2,
   "id": "36b038af",
   "metadata": {},
   "outputs": [],
   "source": [
    "import re"
   ]
  },
  {
   "cell_type": "code",
   "execution_count": 3,
   "id": "236d1577",
   "metadata": {},
   "outputs": [
    {
     "name": "stdout",
     "output_type": "stream",
     "text": [
      "{'In': 1, 'computing,': 1, 'a': 4, 'hash': 4, 'table': 2, 'map': 2, 'is': 1, 'data': 2, 'structure': 2, 'which': 2, 'implements': 1, 'an': 3, 'associative': 1, 'array': 2, 'abstract': 1, 'type,': 1, 'that': 1, 'can': 2, 'keys': 1, 'to': 2, 'values.': 1, 'A': 1, 'uses': 1, 'function': 1, 'compute': 1, 'index': 1, 'into': 1, 'of': 1, 'buckets': 1, 'or': 1, 'slots': 1, 'from': 1, 'the': 1, 'desired': 1, 'value': 1, 'be': 1, 'found': 1}\n"
     ]
    }
   ],
   "source": [
    "def find_distinct_words(a_text):\n",
    "    text = re.sub(r'[.,!?]', '', a_text.lower())    \n",
    "    words = a_text.split()\n",
    "    word_counts = {}\n",
    "    \n",
    "    for word in words:\n",
    "        if word in word_counts:\n",
    "            word_counts[word] += 1\n",
    "        else:\n",
    "            word_counts[word] = 1\n",
    "    \n",
    "    return word_counts\n",
    "\n",
    "a_text = 'In computing, a hash table hash map is a data structure which implements an associative array abstract data type, a structure that can map keys to values. A hash table uses a hash function to compute an index into an array of buckets or slots from which the desired value can be found'\n",
    "\n",
    "result = find_distinct_words(a_text)\n",
    "print(result)"
   ]
  },
  {
   "cell_type": "markdown",
   "id": "a5049853",
   "metadata": {},
   "source": [
    "## Exercise #3\n",
    "\n",
    "<p>Use binary search to return the index of the target num</p>\n"
   ]
  },
  {
   "cell_type": "code",
   "execution_count": 4,
   "id": "c08ea8b3",
   "metadata": {},
   "outputs": [
    {
     "data": {
      "text/plain": [
       "'Target was found at index 7'"
      ]
     },
     "execution_count": 4,
     "metadata": {},
     "output_type": "execute_result"
    }
   ],
   "source": [
    "cool_list = [2, 5, 6, 12, 45, 47, 98, 123, 1000]\n",
    "target = 123\n",
    "\n",
    "def binary_search(array, target):\n",
    "    \n",
    "    left = 0 \n",
    "    right = len(array) \n",
    "    \n",
    "    while left <= right:\n",
    "        middle = (left + right) // 2\n",
    "        potential_match = array[middle]\n",
    "        if potential_match == target:\n",
    "            return f\"Target was found at index {middle}\"\n",
    "        elif potential_match > target:\n",
    "            right = middle - 1\n",
    "        else:\n",
    "            left = middle +1\n",
    "            \n",
    "    return -1\n",
    "\n",
    "binary_search(cool_list, target)"
   ]
  }
 ],
 "metadata": {
  "kernelspec": {
   "display_name": "Python 3 (ipykernel)",
   "language": "python",
   "name": "python3"
  },
  "language_info": {
   "codemirror_mode": {
    "name": "ipython",
    "version": 3
   },
   "file_extension": ".py",
   "mimetype": "text/x-python",
   "name": "python",
   "nbconvert_exporter": "python",
   "pygments_lexer": "ipython3",
   "version": "3.10.9"
  }
 },
 "nbformat": 4,
 "nbformat_minor": 5
}
